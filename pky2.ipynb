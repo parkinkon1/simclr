{
  "cells": [
    {
      "cell_type": "markdown",
      "metadata": {
        "id": "I9oIl-rCOypT",
        "colab_type": "text"
      },
      "source": [
        "## SimCLR: A Simple Framework for Contrastive Learning of Visual Representations\n",
        "\n",
        "This colab demonstrates how to load pretrained/finetuned SimCLR models from checkpoints or hub modules. It contains two parts:\n",
        "\n",
        "* Part I - Load checkpoints and print parameters (count)\n",
        "* Part II - Load hub module for inference\n",
        "\n",
        "The checkpoints are accessible in the following Google Cloud Storage folders.\n",
        "\n",
        "* Pretrained SimCLRv2 models with a linear classifier: [gs://simclr-checkpoints/simclrv2/pretrained](https://console.cloud.google.com/storage/browser/simclr-checkpoints/simclrv2/pretrained)\n",
        "* Fine-tuned SimCLRv2 models on 1% of labels: [gs://simclr-checkpoints/simclrv2/finetuned_1pct](https://console.cloud.google.com/storage/browser/simclr-checkpoints/simclrv2/finetuned_1pct)\n",
        "* Fine-tuned SimCLRv2 models on 10% of labels: [gs://simclr-checkpoints/simclrv2/finetuned_10pct](https://console.cloud.google.com/storage/browser/simclr-checkpoints/simclrv2/finetuned_10pct)\n",
        "* Fine-tuned SimCLRv2 models on 100% of labels: [gs://simclr-checkpoints/simclrv2/finetuned_100pct](https://console.cloud.google.com/storage/browser/simclr-checkpoints/simclrv2/finetuned_100pct)\n",
        "* Supervised models with the same architectures: [gs://simclr-checkpoints/simclrv2/pretrained](https://console.cloud.google.com/storage/browser/simclr-checkpoints/simclrv2/pretrained)\n",
        "\n",
        "Use the corresponding checkpoint / hub-module paths for accessing the model. For example, to use a pre-trained model (with a linear classifier) with ResNet-152 (2x+SK), set the path to `gs://simclr-checkpoints/simclrv2/pretrained/r152_2x_sk1`."
      ]
    },
    {
      "cell_type": "markdown",
      "metadata": {},
      "source": [
        "# 1. Imagenet Dataset 다운로드 / 전처리"
      ]
    },
    {
      "cell_type": "code",
      "execution_count": 1,
      "metadata": {
        "tags": []
      },
      "outputs": [
        {
          "output_type": "stream",
          "name": "stdout",
          "text": "WARNING:tensorflow:\nThe TensorFlow contrib module will not be included in TensorFlow 2.0.\nFor more information, please see:\n  * https://github.com/tensorflow/community/blob/master/rfcs/20180907-contrib-sunset.md\n  * https://github.com/tensorflow/addons\n  * https://github.com/tensorflow/io (for I/O related ops)\nIf you depend on functionality not listed there, please file an issue.\n\n"
        }
      ],
      "source": [
        "# from __future__ import absolute_import\n",
        "# from __future__ import division\n",
        "# from __future__ import print_function\n",
        "import sys\n",
        "import os\n",
        "import yaml\n",
        "import re\n",
        "import numpy as np\n",
        "\n",
        "import tensorflow.compat.v1 as tf\n",
        "tf.disable_eager_execution()\n",
        "import tensorflow_hub as hub\n",
        "import tensorflow_datasets as tfds\n",
        "\n",
        "import matplotlib\n",
        "import matplotlib.pyplot as plt\n",
        "\n",
        "from sklearn.decomposition import PCA\n",
        "from sklearn.linear_model import LogisticRegression\n",
        "from sklearn.manifold import TSNE\n",
        "from sklearn import preprocessing\n",
        "\n",
        "import importlib.util\n",
        "from PIL import Image\n",
        "\n",
        "# # import data as data_li# b\n",
        "# import model as model_# lib\n",
        "# import model_util as model_util"
      ]
    },
    {
      "cell_type": "code",
      "execution_count": 2,
      "metadata": {
        "tags": []
      },
      "outputs": [
        {
          "output_type": "execute_result",
          "data": {
            "text/plain": "'/home/user/Desktop/pky/simclr'"
          },
          "metadata": {},
          "execution_count": 2
        }
      ],
      "source": [
        "pwd"
      ]
    },
    {
      "cell_type": "code",
      "execution_count": 3,
      "metadata": {
        "tags": []
      },
      "outputs": [
        {
          "output_type": "stream",
          "name": "stdout",
          "text": "Using device: cpu\n"
        }
      ],
      "source": [
        "import torch, torchvision\n",
        "from torchvision import transforms as T\n",
        "# Load details\n",
        "device = 'cuda' if torch.cuda.is_available() else 'cpu'\n",
        "print(\"Using device:\", device)"
      ]
    },
    {
      "cell_type": "code",
      "execution_count": 4,
      "metadata": {
        "tags": []
      },
      "outputs": [
        {
          "output_type": "stream",
          "name": "stdout",
          "text": "dataPath: /SSD_data/Imagenet2012/val\nval : Load images...\nLoad Finished!\n"
        }
      ],
      "source": [
        "# 1-3. Load data\n",
        "dataType = 'val' # datatype (train / val)\n",
        "dataHome = '/SSD_data/Imagenet2012' # Imagenet2012 path (classification)\n",
        "dataPath = os.path.join(dataHome, dataType)\n",
        "print('dataPath:', dataPath)\n",
        "\n",
        "transform = T.Compose([T.Resize(256), T.CenterCrop(224), T.ToTensor()])\n",
        "data_total = 1000\n",
        "\n",
        "def _load_imagenet(prefix='train'):\n",
        "    imagenet_data = torchvision.datasets.ImageNet(dataPath,split=prefix,download=False,transform=transform)\n",
        "    data_loader = torch.utils.data.DataLoader(imagenet_data,batch_size=data_total,shuffle=True,num_workers=16)\n",
        "    for data in data_loader:\n",
        "        return data\n",
        "\n",
        "print(dataType, \": Load images...\")\n",
        "X_data, labels = _load_imagenet(dataType)\n",
        "X_data, labels = X_data.numpy(), labels.numpy()\n",
        "X_data = X_data.transpose(0,2,3,1) # HWC\n",
        "print(\"Load Finished!\")"
      ]
    },
    {
      "cell_type": "code",
      "execution_count": 5,
      "metadata": {
        "tags": []
      },
      "outputs": [
        {
          "output_type": "stream",
          "name": "stdout",
          "text": "(1000, 224, 224, 3) (1000,)\n"
        }
      ],
      "source": [
        "print(X_data.shape, labels.shape)"
      ]
    },
    {
      "cell_type": "code",
      "execution_count": 6,
      "metadata": {
        "tags": []
      },
      "outputs": [
        {
          "output_type": "stream",
          "name": "stdout",
          "text": "savePath: ./save/Imagenet/\ntimeStamp: 20200706-110039\n"
        }
      ],
      "source": [
        "import time\n",
        "savePath = './save/Imagenet/' # save path\n",
        "timestr = time.strftime(\"%Y%m%d-%H%M%S\") # time stamp\n",
        "print('savePath:', savePath)\n",
        "print('timeStamp:', timestr)"
      ]
    },
    {
      "cell_type": "code",
      "execution_count": 9,
      "metadata": {
        "tags": []
      },
      "outputs": [],
      "source": [
        "model_name = 'pretrained_r50_1x_sk0'\n",
        "hub_path = 'gs://simclr-checkpoints/simclrv2/pretrained/r50_1x_sk0/hub/' # self-supervised\n",
        "# hub_path = 'gs://simclr-checkpoints/simclrv2/finetuned_1pct/r50_1x_sk0/hub/' # 1% fine-tuned\n",
        "# hub_path = 'gs://simclr-checkpoints/simclrv2/finetuned_10pct/r50_1x_sk0/hub/' # 10% fine-tuned\n",
        "# hub_path = 'gs://simclr-checkpoints/simclrv2/finetuned_100pct/r50_1x_sk0/hub/' # 100% fine-tuned\n",
        "# hub_path = 'gs://simclr-checkpoints/simclrv2/supervised/r50_1x_sk0/hub/' # supervised\n",
        "module = hub.Module(hub_path, trainable=False)"
      ]
    },
    {
      "cell_type": "code",
      "execution_count": 39,
      "metadata": {},
      "outputs": [],
      "source": [
        "batch_size = 5\n",
        "dataset = {'image':X_data, 'label':labels}\n",
        "dataset_batch = tf.data.Dataset.from_tensor_slices(dataset).batch(batch_size)\n",
        "dataset_batch = tf.data.make_one_shot_iterator(dataset_batch).get_next()"
      ]
    },
    {
      "cell_type": "code",
      "execution_count": 40,
      "metadata": {
        "tags": []
      },
      "outputs": [
        {
          "output_type": "stream",
          "name": "stdout",
          "text": "INFO:tensorflow:Saver not created because there are no variables in the graph to restore\n"
        },
        {
          "output_type": "execute_result",
          "data": {
            "text/plain": "(<tf.Tensor 'module_apply_default_4/base_model/final_avg_pool:0' shape=(?, 2048) dtype=float32>,\n <tf.Tensor 'module_apply_default_4/head_supervised/linear_layer/linear_layer_out:0' shape=(?, 1000) dtype=float32>)"
          },
          "metadata": {},
          "execution_count": 40
        }
      ],
      "source": [
        "keys = module(inputs=dataset_batch['image'], signature=\"default\", as_dict=True)\n",
        "features = keys['default']\n",
        "logits = keys['logits_sup']\n",
        "features, logits"
      ]
    },
    {
      "cell_type": "code",
      "execution_count": 41,
      "metadata": {},
      "outputs": [],
      "source": [
        "sess = tf.Session(config=tf.ConfigProto(log_device_placement=True))\n",
        "sess.run(tf.global_variables_initializer())"
      ]
    },
    {
      "cell_type": "code",
      "execution_count": 42,
      "metadata": {
        "tags": []
      },
      "outputs": [
        {
          "output_type": "display_data",
          "data": {
            "text/plain": "HBox(children=(FloatProgress(value=0.0, description='Extract Features', max=3.0, style=ProgressStyle(descripti…",
            "application/vnd.jupyter.widget-view+json": {
              "version_major": 2,
              "version_minor": 0,
              "model_id": "1e6717e664d24ca290092f47cd4c4424"
            }
          },
          "metadata": {}
        },
        {
          "output_type": "stream",
          "name": "stdout",
          "text": "\n(15, 2048) (15, 1000)\n"
        }
      ],
      "source": [
        "from tqdm import tqdm_notebook\n",
        "device = '/gpu:2'\n",
        "features_total = np.empty((0, 2048))\n",
        "logits_total = np.empty((0, 1000))\n",
        "\n",
        "iter = data_total // batch_size\n",
        "with tf.device(device):\n",
        "    for _ in tqdm_notebook(range(3), desc='Extract Features'):\n",
        "        features_, logits_ = sess.run((features, logits))\n",
        "        features_total = np.append(features_total, features_, axis=0)\n",
        "        logits_total = np.append(logits_total, logits_, axis=0)\n",
        "\n",
        "print(features_total.shape, logits_total.shape)"
      ]
    },
    {
      "cell_type": "code",
      "execution_count": 43,
      "metadata": {
        "tags": []
      },
      "outputs": [
        {
          "output_type": "stream",
          "name": "stdout",
          "text": "(15, 2048) (15, 1000)\n"
        }
      ],
      "source": [
        "print(features_total.shape, logits_total.shape)"
      ]
    },
    {
      "cell_type": "code",
      "execution_count": 48,
      "metadata": {},
      "outputs": [],
      "source": [
        "#### 저장\n",
        "model_name = 'pretrained_r50_1x_sk0'\n",
        "np.save(savePath+dataType+'_'+model_name+'_features_'+timestr, features_total)\n",
        "np.save(savePath+dataType+'_'+model_name+'_logits_'+timestr, logits_total)"
      ]
    },
    {
      "cell_type": "code",
      "execution_count": null,
      "metadata": {},
      "outputs": [],
      "source": []
    },
    {
      "cell_type": "code",
      "execution_count": null,
      "metadata": {},
      "outputs": [],
      "source": []
    },
    {
      "cell_type": "code",
      "execution_count": null,
      "metadata": {},
      "outputs": [],
      "source": []
    },
    {
      "cell_type": "code",
      "execution_count": null,
      "metadata": {},
      "outputs": [],
      "source": []
    },
    {
      "cell_type": "code",
      "execution_count": null,
      "metadata": {},
      "outputs": [],
      "source": [
        " = np.load(\"./save/STL10/train_simclr.npy\")\n",
        "X_test_feature_simclr = np.load(\"./save/STL10/test_simclr.npy\")\n",
        "X_train_feature_pre = np.load(\"./save/STL10/train_pretrained.npy\")\n",
        "X_test_feature_pre = np.load(\"./save/STL10/test_pretrained.npy\")"
      ]
    },
    {
      "cell_type": "code",
      "execution_count": 2,
      "metadata": {
        "tags": []
      },
      "outputs": [
        {
          "output_type": "execute_result",
          "data": {
            "text/plain": "'/home/user/Desktop/pky/simclr'"
          },
          "metadata": {},
          "execution_count": 2
        }
      ],
      "source": [
        "pwd"
      ]
    },
    {
      "cell_type": "code",
      "execution_count": 10,
      "metadata": {},
      "outputs": [
        {
          "output_type": "execute_result",
          "data": {
            "text/plain": "(10047,)"
          },
          "metadata": {},
          "execution_count": 10
        }
      ],
      "source": [
        "import numpy as np\n",
        "a = np.load('save/Imagenet/dataset/train_labels_3.npy')\n",
        "a.shape"
      ]
    },
    {
      "cell_type": "code",
      "execution_count": null,
      "metadata": {},
      "outputs": [],
      "source": [
        "import numpy as np\n",
        "\n",
        "a = np.load('save/Imagenet/data')\n"
      ]
    },
    {
      "cell_type": "code",
      "execution_count": 2,
      "metadata": {},
      "outputs": [],
      "source": [
        "import numpy as np\n",
        "import pandas as pd\n",
        "import matplotlib.pyplot as plt\n",
        "%matplotlib inline\n",
        "import os, yaml\n",
        "from pandas import DataFrame\n",
        "import pickle\n",
        "\n",
        "\n"
      ]
    },
    {
      "cell_type": "code",
      "execution_count": 9,
      "metadata": {},
      "outputs": [],
      "source": [
        "with open(\"imagenet1000_classes.txt\", 'r') as file:\n",
        "    classname = eval(file.read())\n",
        "n_classes = len(classname)\n",
        "classname_new = [list(classname.values())[i].split(',')[0] for i in range(1000)]\n",
        "\n",
        "subset_dict = {\n",
        "    1: 'goldfish',\n",
        "    8: 'hen',\n",
        "    153: 'Maltese dog',\n",
        "    281: 'tabby cat',\n",
        "    292: 'tiger',\n",
        "    532: 'dining table',\n",
        "    559: 'folding chair',\n",
        "    681: 'notebook',\n",
        "    817: 'sports car',\n",
        "    895: 'military plane',\n",
        "}\n",
        "subset = np.array(list(subset_dict.items()))\n",
        "subset_keys = subset[:,0].astype(int)\n",
        "subset_vals = subset[:,1]"
      ]
    },
    {
      "cell_type": "code",
      "execution_count": 31,
      "metadata": {
        "tags": []
      },
      "outputs": [
        {
          "output_type": "error",
          "ename": "SyntaxError",
          "evalue": "invalid token (<ipython-input-31-95ddd540c955>, line 20)",
          "traceback": [
            "\u001b[0;36m  File \u001b[0;32m\"<ipython-input-31-95ddd540c955>\"\u001b[0;36m, line \u001b[0;32m20\u001b[0m\n\u001b[0;31m    new_labels = np.append(new_labels, batch_la, axis=0bel[idx], axis=0)\u001b[0m\n\u001b[0m                                                       ^\u001b[0m\n\u001b[0;31mSyntaxError\u001b[0m\u001b[0;31m:\u001b[0m invalid token\n"
          ]
        }
      ],
      "source": [
        "dataType = 'val'\n",
        "dataPath = '/home/user/Desktop/pky/simclr/save/Imagenet/dataset/'\n",
        "batch_size = 1000\n",
        "\n",
        "def _load_imagenet():\n",
        "    for file_num in range(5):\n",
        "        data = np.load(dataPath+dataType+'_images_{}.npy'.format(file_num))\n",
        "        label = np.load(dataPath+dataType+'_labels_{}.npy'.format(file_num))\n",
        "        for i in range(0, data.shape[0], batch_size):\n",
        "            yield data[i: i+batch_size], label[i: i+batch_size]\n",
        "\n",
        "\n",
        "new_set = np.empty((0,224,224,3))\n",
        "new_labels = np.array([])\n",
        "print(\"batch computation start...\")\n",
        "for batch_data, batch_label in _load_imagenet():\n",
        "    for key in subset_keys:\n",
        "        idx = np.where(batch_label == key)\n",
        "        new_set = np.append(new_set, batch_data[idx], axis=0, axis=0)\n",
        "        new_labels = np.append(new_labels, batch_la, axis=0bel[idx], axis=0)\n",
        "print(\"batch Finished!\")\n",
        "\n",
        "# 저장\n",
        "savePath = '/home/user/Desktop/pky/simclr/save/Imagenet/'\n",
        "np.save(savePath+dataType+'_images10_diff', new_set)\n",
        "np.save(savePath+dataType+'_labels10_diff', new_labels)"
      ]
    },
    {
      "cell_type": "code",
      "execution_count": 32,
      "metadata": {
        "tags": []
      },
      "outputs": [
        {
          "output_type": "stream",
          "name": "stdout",
          "text": "batch computation start...\nbatch Finished!\n"
        }
      ],
      "source": [
        "dataType = 'val'\n",
        "dataPath = '/home/user/Desktop/pky/simclr/save/Imagenet/dataset/'\n",
        "batch_size = 1000\n",
        "\n",
        "def _load_imagenet():\n",
        "    for file_num in range(5):\n",
        "        data = np.load(dataPath+dataType+'_images_{}.npy'.format(file_num))\n",
        "        label = np.load(dataPath+dataType+'_labels_{}.npy'.format(file_num))\n",
        "        for i in range(0, data.shape[0], batch_size):\n",
        "            yield data[i: i+batch_size], label[i: i+batch_size]\n",
        "\n",
        "\n",
        "new_set = np.empty((0,224,224,3))\n",
        "new_labels = np.array([])\n",
        "print(\"batch computation start...\")\n",
        "for batch_data, batch_label in _load_imagenet():\n",
        "    for key in subset_keys:\n",
        "        idx = np.where(batch_label == key)\n",
        "        new_set = np.append(new_set, batch_data[idx], axis=0)\n",
        "        new_labels = np.append(new_labels, batch_label[idx], axis=0)\n",
        "print(\"batch Finished!\")\n",
        "\n",
        "# 저장\n",
        "savePath = '/home/user/Desktop/pky/simclr/save/Imagenet/'\n",
        "np.save(savePath+dataType+'_images10_diff', new_set)\n",
        "np.save(savePath+dataType+'_labels10_diff', new_labels)"
      ]
    },
    {
      "cell_type": "code",
      "execution_count": 34,
      "metadata": {},
      "outputs": [
        {
          "output_type": "execute_result",
          "data": {
            "text/plain": "(500, 224, 224, 3)"
          },
          "metadata": {},
          "execution_count": 34
        }
      ],
      "source": [
        "a = np.load('save/Imagenet/val_images10_diff.npy')\n",
        "a.shape"
      ]
    },
    {
      "cell_type": "code",
      "execution_count": null,
      "metadata": {},
      "outputs": [],
      "source": []
    },
    {
      "cell_type": "code",
      "execution_count": null,
      "metadata": {},
      "outputs": [],
      "source": []
    },
    {
      "cell_type": "code",
      "execution_count": 14,
      "metadata": {},
      "outputs": [
        {
          "output_type": "execute_result",
          "data": {
            "text/plain": "'/home/user/Desktop/pky/simclr'"
          },
          "metadata": {},
          "execution_count": 14
        }
      ],
      "source": []
    },
    {
      "cell_type": "code",
      "execution_count": null,
      "metadata": {},
      "outputs": [],
      "source": []
    }
  ],
  "metadata": {
    "colab": {
      "name": "load_and_inference.ipynb",
      "provenance": [],
      "collapsed_sections": []
    },
    "kernelspec": {
      "name": "python37764bittf1conda98438329aa7343f286aada627438d4ea",
      "display_name": "Python 3.7.7 64-bit ('tf1': conda)"
    },
    "widgets": {
      "application/vnd.jupyter.widget-state+json": {
        "ed71033be23e46df83647e682528d7bc": {
          "model_module": "@jupyter-widgets/controls",
          "model_name": "HBoxModel",
          "state": {
            "_view_name": "HBoxView",
            "_dom_classes": [],
            "_model_name": "HBoxModel",
            "_view_module": "@jupyter-widgets/controls",
            "_model_module_version": "1.5.0",
            "_view_count": null,
            "_view_module_version": "1.5.0",
            "box_style": "",
            "layout": "IPY_MODEL_d6b19f0a1f824b229fe8fedf02f232ed",
            "_model_module": "@jupyter-widgets/controls",
            "children": [
              "IPY_MODEL_843fc6861cc049198d73152839c75d09",
              "IPY_MODEL_0e90d689153149d9a11d6da6400bd0ea"
            ]
          }
        },
        "d6b19f0a1f824b229fe8fedf02f232ed": {
          "model_module": "@jupyter-widgets/base",
          "model_name": "LayoutModel",
          "state": {
            "_view_name": "LayoutView",
            "grid_template_rows": null,
            "right": null,
            "justify_content": null,
            "_view_module": "@jupyter-widgets/base",
            "overflow": null,
            "_model_module_version": "1.2.0",
            "_view_count": null,
            "flex_flow": null,
            "width": null,
            "min_width": null,
            "border": null,
            "align_items": null,
            "bottom": null,
            "_model_module": "@jupyter-widgets/base",
            "top": null,
            "grid_column": null,
            "overflow_y": null,
            "overflow_x": null,
            "grid_auto_flow": null,
            "grid_area": null,
            "grid_template_columns": null,
            "flex": null,
            "_model_name": "LayoutModel",
            "justify_items": null,
            "grid_row": null,
            "max_height": null,
            "align_content": null,
            "visibility": null,
            "align_self": null,
            "height": null,
            "min_height": null,
            "padding": null,
            "grid_auto_rows": null,
            "grid_gap": null,
            "max_width": null,
            "order": null,
            "_view_module_version": "1.2.0",
            "grid_template_areas": null,
            "object_position": null,
            "object_fit": null,
            "grid_auto_columns": null,
            "margin": null,
            "display": null,
            "left": null
          }
        },
        "843fc6861cc049198d73152839c75d09": {
          "model_module": "@jupyter-widgets/controls",
          "model_name": "FloatProgressModel",
          "state": {
            "_view_name": "ProgressView",
            "style": "IPY_MODEL_fe61a9d20be54db3841f94bb1ae67dd1",
            "_dom_classes": [],
            "description": "Dl Completed...: 100%",
            "_model_name": "FloatProgressModel",
            "bar_style": "success",
            "max": 5,
            "_view_module": "@jupyter-widgets/controls",
            "_model_module_version": "1.5.0",
            "value": 5,
            "_view_count": null,
            "_view_module_version": "1.5.0",
            "orientation": "horizontal",
            "min": 0,
            "description_tooltip": null,
            "_model_module": "@jupyter-widgets/controls",
            "layout": "IPY_MODEL_798252693b3c4afeb39103ce9768be88"
          }
        },
        "0e90d689153149d9a11d6da6400bd0ea": {
          "model_module": "@jupyter-widgets/controls",
          "model_name": "HTMLModel",
          "state": {
            "_view_name": "HTMLView",
            "style": "IPY_MODEL_39f878b38c684abd816ac500f940d142",
            "_dom_classes": [],
            "description": "",
            "_model_name": "HTMLModel",
            "placeholder": "​",
            "_view_module": "@jupyter-widgets/controls",
            "_model_module_version": "1.5.0",
            "value": " 5/5 [00:04&lt;00:00,  1.19 file/s]",
            "_view_count": null,
            "_view_module_version": "1.5.0",
            "description_tooltip": null,
            "_model_module": "@jupyter-widgets/controls",
            "layout": "IPY_MODEL_7afc77b8c06a4c2cafa1495daf4b772b"
          }
        },
        "fe61a9d20be54db3841f94bb1ae67dd1": {
          "model_module": "@jupyter-widgets/controls",
          "model_name": "ProgressStyleModel",
          "state": {
            "_view_name": "StyleView",
            "_model_name": "ProgressStyleModel",
            "description_width": "initial",
            "_view_module": "@jupyter-widgets/base",
            "_model_module_version": "1.5.0",
            "_view_count": null,
            "_view_module_version": "1.2.0",
            "bar_color": null,
            "_model_module": "@jupyter-widgets/controls"
          }
        },
        "798252693b3c4afeb39103ce9768be88": {
          "model_module": "@jupyter-widgets/base",
          "model_name": "LayoutModel",
          "state": {
            "_view_name": "LayoutView",
            "grid_template_rows": null,
            "right": null,
            "justify_content": null,
            "_view_module": "@jupyter-widgets/base",
            "overflow": null,
            "_model_module_version": "1.2.0",
            "_view_count": null,
            "flex_flow": null,
            "width": null,
            "min_width": null,
            "border": null,
            "align_items": null,
            "bottom": null,
            "_model_module": "@jupyter-widgets/base",
            "top": null,
            "grid_column": null,
            "overflow_y": null,
            "overflow_x": null,
            "grid_auto_flow": null,
            "grid_area": null,
            "grid_template_columns": null,
            "flex": null,
            "_model_name": "LayoutModel",
            "justify_items": null,
            "grid_row": null,
            "max_height": null,
            "align_content": null,
            "visibility": null,
            "align_self": null,
            "height": null,
            "min_height": null,
            "padding": null,
            "grid_auto_rows": null,
            "grid_gap": null,
            "max_width": null,
            "order": null,
            "_view_module_version": "1.2.0",
            "grid_template_areas": null,
            "object_position": null,
            "object_fit": null,
            "grid_auto_columns": null,
            "margin": null,
            "display": null,
            "left": null
          }
        },
        "39f878b38c684abd816ac500f940d142": {
          "model_module": "@jupyter-widgets/controls",
          "model_name": "DescriptionStyleModel",
          "state": {
            "_view_name": "StyleView",
            "_model_name": "DescriptionStyleModel",
            "description_width": "",
            "_view_module": "@jupyter-widgets/base",
            "_model_module_version": "1.5.0",
            "_view_count": null,
            "_view_module_version": "1.2.0",
            "_model_module": "@jupyter-widgets/controls"
          }
        },
        "7afc77b8c06a4c2cafa1495daf4b772b": {
          "model_module": "@jupyter-widgets/base",
          "model_name": "LayoutModel",
          "state": {
            "_view_name": "LayoutView",
            "grid_template_rows": null,
            "right": null,
            "justify_content": null,
            "_view_module": "@jupyter-widgets/base",
            "overflow": null,
            "_model_module_version": "1.2.0",
            "_view_count": null,
            "flex_flow": null,
            "width": null,
            "min_width": null,
            "border": null,
            "align_items": null,
            "bottom": null,
            "_model_module": "@jupyter-widgets/base",
            "top": null,
            "grid_column": null,
            "overflow_y": null,
            "overflow_x": null,
            "grid_auto_flow": null,
            "grid_area": null,
            "grid_template_columns": null,
            "flex": null,
            "_model_name": "LayoutModel",
            "justify_items": null,
            "grid_row": null,
            "max_height": null,
            "align_content": null,
            "visibility": null,
            "align_self": null,
            "height": null,
            "min_height": null,
            "padding": null,
            "grid_auto_rows": null,
            "grid_gap": null,
            "max_width": null,
            "order": null,
            "_view_module_version": "1.2.0",
            "grid_template_areas": null,
            "object_position": null,
            "object_fit": null,
            "grid_auto_columns": null,
            "margin": null,
            "display": null,
            "left": null
          }
        }
      }
    }
  },
  "nbformat": 4,
  "nbformat_minor": 0
}